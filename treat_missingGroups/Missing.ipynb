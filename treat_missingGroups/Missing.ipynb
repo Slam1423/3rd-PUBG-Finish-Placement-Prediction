{
 "cells": [
  {
   "cell_type": "code",
   "execution_count": 1,
   "metadata": {},
   "outputs": [],
   "source": [
    "import xlrd\n",
    "import matplotlib.pyplot as plt\n",
    "import numpy  as np\n",
    "import pandas as pd\n",
    "from pandas import Series, DataFrame\n",
    "import scipy.stats as st\n",
    "df=pd.read_csv('train_V2.csv')"
   ]
  },
  {
   "cell_type": "code",
   "execution_count": 2,
   "metadata": {},
   "outputs": [
    {
     "data": {
      "text/plain": [
       "array(['squad-fpp', 'duo', 'solo-fpp', 'squad', 'duo-fpp', 'solo',\n",
       "       'normal-squad-fpp', 'crashfpp', 'flaretpp', 'normal-solo-fpp',\n",
       "       'flarefpp', 'normal-duo-fpp', 'normal-duo', 'normal-squad',\n",
       "       'crashtpp', 'normal-solo'], dtype=object)"
      ]
     },
     "execution_count": 2,
     "metadata": {},
     "output_type": "execute_result"
    }
   ],
   "source": [
    "df['matchType'].unique()"
   ]
  },
  {
   "cell_type": "code",
   "execution_count": 43,
   "metadata": {},
   "outputs": [],
   "source": [
    "df[\"intwpp\"] = round(df[\"winPlacePerc\"]*(df[\"maxPlace\"]-1))+1"
   ]
  },
  {
   "cell_type": "code",
   "execution_count": 49,
   "metadata": {},
   "outputs": [],
   "source": [
    "def normPdf(x,mu,sigma):\n",
    "    '''\n",
    "    计算均值为mu，标准差为sigma的正态分布函数的密度函数值\n",
    "    :param x: x值\n",
    "    :param mu: 均值\n",
    "    :param sigma: 标准差\n",
    "    :return: x处的密度函数值\n",
    "    '''\n",
    "    return (1./np.sqrt(2*np.pi))*(np.exp(-(x-mu)**2/(2*sigma**2)))\n",
    "\n",
    "\n",
    "\n",
    "def emgauss(dataArray,k,mu,sigma,step = 10):\n",
    "    '''\n",
    "    em算法估计高斯混合模型\n",
    "    :param dataNum: 已知数据个数\n",
    "    :param k: 每个高斯分布的估计系数\n",
    "    :param mu: 每个高斯分布的估计均值\n",
    "    :param sigma: 每个高斯分布的估计标准差\n",
    "    :param step:迭代次数\n",
    "    :return: em 估计迭代结束估计的参数值[k,mu,sigma]\n",
    "    '''\n",
    "    # 高斯分布个数\n",
    "    n = len(k)\n",
    "    # 数据个数\n",
    "    dataNum = dataArray.size\n",
    "    # 初始化gama数组\n",
    "    gamaArray = np.zeros((n,dataNum))\n",
    "    for s in range(step):\n",
    "        for i in range(n):\n",
    "            for j in range(dataNum):\n",
    "                Sum = sum([k[t]*normPdf(dataArray[j],mu[t],sigma[t]) for t in range(n)])\n",
    "                gamaArray[i][j] = k[i]*normPdf(dataArray[j],mu[i],sigma[i])/float(Sum)\n",
    "        # 更新 mu\n",
    "        for i in range(n):\n",
    "            mu[i] = np.sum(gamaArray[i]*dataArray)/np.sum(gamaArray[i])\n",
    "        # 更新 sigma\n",
    "        for i in range(n):\n",
    "            sigma[i] = np.sqrt(np.sum(gamaArray[i]*(dataArray - mu[i])**2)/np.sum(gamaArray[i]))\n",
    "        # 更新系数k\n",
    "        for i in range(n):\n",
    "            k[i] = np.sum(gamaArray[i])/dataNum\n",
    "\n",
    "    return [k,mu,sigma]"
   ]
  },
  {
   "cell_type": "code",
   "execution_count": 240,
   "metadata": {},
   "outputs": [],
   "source": [
    "def doubledensity(mu1,sigma1,k1,x):\n",
    "    N1 = np.sqrt(2 * np.pi * np.power(sigma1[0], 2))\n",
    "    fac1 = np.power(x - mu1[0], 2) / np.power(sigma1[0], 2)\n",
    "    density1=np.exp(-fac1/2)/N1\n",
    "    N2 = np.sqrt(2 * np.pi * np.power(sigma1[1], 2))\n",
    "    fac2 = np.power(x - mu1[1], 2) / np.power(sigma1[1], 2)\n",
    "    density2=np.exp(-fac2/2)/N2\n",
    "    #print(density1,density2)\n",
    "    density=k1[0]*density1+k1[1]*density2\n",
    "    #density=0.035*density1+0.965*density2\n",
    "    return density"
   ]
  },
  {
   "cell_type": "code",
   "execution_count": 205,
   "metadata": {},
   "outputs": [
    {
     "data": {
      "text/plain": [
       "34"
      ]
     },
     "execution_count": 205,
     "metadata": {},
     "output_type": "execute_result"
    }
   ],
   "source": [
    "dfsquad = df[(df['matchType'] == 'squad')].reindex(columns = ['maxPlace','numGroups','winPlacePerc','intwpp','matchId','groupId'])\n",
    "max(dfsquad['maxPlace'])"
   ]
  },
  {
   "cell_type": "code",
   "execution_count": 215,
   "metadata": {},
   "outputs": [
    {
     "data": {
      "text/plain": [
       "(array([239., 199., 180., 122., 133., 180., 225.,   0., 287., 408., 452.,\n",
       "        548., 560., 530.,   0., 505., 408., 367., 323., 264., 208., 144.,\n",
       "          0.,  78.,  73.,  40.,  26.,   8.,   4.,   1.]),\n",
       " array([ 2.        ,  2.86666667,  3.73333333,  4.6       ,  5.46666667,\n",
       "         6.33333333,  7.2       ,  8.06666667,  8.93333333,  9.8       ,\n",
       "        10.66666667, 11.53333333, 12.4       , 13.26666667, 14.13333333,\n",
       "        15.        , 15.86666667, 16.73333333, 17.6       , 18.46666667,\n",
       "        19.33333333, 20.2       , 21.06666667, 21.93333333, 22.8       ,\n",
       "        23.66666667, 24.53333333, 25.4       , 26.26666667, 27.13333333,\n",
       "        28.        ]),\n",
       " <a list of 30 Patch objects>)"
      ]
     },
     "execution_count": 215,
     "metadata": {},
     "output_type": "execute_result"
    },
    {
     "data": {
      "image/png": "[encoded data removed]",
      "text/plain": [
       "<Figure size 432x288 with 1 Axes>"
      ]
     },
     "metadata": {
      "needs_background": "light"
     },
     "output_type": "display_data"
    }
   ],
   "source": [
    "dfsquad = dfsquad.sort_values(by = ['matchId','intwpp'])\n",
    "for i in range(len(dfsquad)):\n",
    "    if dfsquad.iloc[i,3] == dfsquad.iloc[i,3]:\n",
    "        continue\n",
    "    else:\n",
    "        dfsquad.iloc[i,3] = -1\n",
    "countsquad2 = []\n",
    "countsquad = []\n",
    "for i in range(30):\n",
    "    countsquad.append(0)\n",
    "dfsquad2 = dfsquad.groupby(['matchId']).count()\n",
    "jj = 0\n",
    "for i in range(len(dfsquad2)):\n",
    "    counttemp = []\n",
    "    for j in range(jj,jj+int(dfsquad2.iloc[i,0])):\n",
    "        counttemp.append(int(dfsquad.iloc[j,3]))\n",
    "    for m in range(1,int(dfsquad.iloc[jj,0])+1):\n",
    "        if m not in counttemp:\n",
    "            countsquad[m] = countsquad[m]+1\n",
    "            countsquad2.append(m)\n",
    "    jj = jj+int(dfsquad2.iloc[i,0]) \n",
    "plt.hist(countsquad2,30)"
   ]
  },
  {
   "cell_type": "code",
   "execution_count": 217,
   "metadata": {},
   "outputs": [
    {
     "data": {
      "text/plain": [
       "5.163701546598621"
      ]
     },
     "execution_count": 217,
     "metadata": {},
     "output_type": "execute_result"
    }
   ],
   "source": [
    "countsquad5 = np.array(countsquad2)\n",
    "np.std(countsquad5,ddof = 1)"
   ]
  },
  {
   "cell_type": "code",
   "execution_count": 256,
   "metadata": {},
   "outputs": [
    {
     "name": "stdout",
     "output_type": "stream",
     "text": [
      "{12: 547, 13: 559, 18: 322, 20: 207, 10: 407, 9: 286, 16: 407, 8: 224, 24: 39, 14: 529, 2: 238, 5: 121, 17: 366, 21: 143, 19: 263, 11: 451, 3: 198, 15: 504, 7: 179, 6: 132, 22: 77, 25: 25, 4: 179, 23: 72, 27: 3, 26: 7, 28: 0}\n"
     ]
    }
   ],
   "source": [
    "countsquad2\n",
    "numDict = dict()\n",
    "for elem in countsquad2:\n",
    "    if elem not in numDict.keys():\n",
    "        numDict[elem] = 1\n",
    "    else:\n",
    "        numDict[elem] += 1\n",
    "print(numDict)"
   ]
  },
  {
   "cell_type": "code",
   "execution_count": 252,
   "metadata": {},
   "outputs": [
    {
     "name": "stdout",
     "output_type": "stream",
     "text": [
      "参数估计值:\n",
      "k1: [0.03569292339495502, 0.9643070766050448]\n",
      "mu1: [3.1532474986839456, 13.081487058680898]\n",
      "sigma1: [1.2138821257639176, 4.90649709081083]\n"
     ]
    }
   ],
   "source": [
    "k0 = [0.3,0.7]\n",
    "mu0 = [1,12]\n",
    "sigma0 = [5.16,5.16]\n",
    "step = 6\n",
    "# 使用em算法估计参数\n",
    "k1,mu1,sigma1 = emgauss(countsquad5,k0,mu0,sigma0,step)\n",
    "# 输出参数的值\n",
    "print(\"参数估计值:\")\n",
    "print(\"k1:\",k1)\n",
    "print(\"mu1:\",mu1)\n",
    "print(\"sigma1:\",sigma1)"
   ]
  },
  {
   "cell_type": "code",
   "execution_count": 253,
   "metadata": {},
   "outputs": [
    {
     "data": {
      "text/plain": [
       "[<matplotlib.lines.Line2D at 0x1b31aba2880>]"
      ]
     },
     "execution_count": 253,
     "metadata": {},
     "output_type": "execute_result"
    },
    {
     "data": {
      "image/png": "[encoded data removed]",
      "text/plain": [
       "<Figure size 432x288 with 1 Axes>"
      ]
     },
     "metadata": {
      "needs_background": "light"
     },
     "output_type": "display_data"
    }
   ],
   "source": [
    "X = np.arange(0,30,0.05)\n",
    "Y = doubledensity(mu1,sigma1,k1,X)\n",
    "plt.plot(X,Y,'b-',linewidth=3)"
   ]
  },
  {
   "cell_type": "code",
   "execution_count": 272,
   "metadata": {},
   "outputs": [
    {
     "data": {
      "image/png": "[encoded data removed]",
      "text/plain": [
       "<Figure size 432x288 with 2 Axes>"
      ]
     },
     "metadata": {
      "needs_background": "light"
     },
     "output_type": "display_data"
    }
   ],
   "source": [
    "'''countsquad3 = []\n",
    "testsquad = []\n",
    "for i in range(27):\n",
    "    countsquad3.append(0)\n",
    "for i in range(len(countsquad2)):\n",
    "    countsquad3[int(countsquad[i])] = countsquad3[int(countsquad2[i])]+1\n",
    "for i in range(27):\n",
    "    testsquad.append(i)\n",
    "countsquad3 = np.array(countsquad3)\n",
    "testsquad = np.array(testsquad)'''\n",
    "fig,ax1 = plt.subplots()\n",
    "plt.plot(X,Y,'k-',linewidth=3)\n",
    "ax2=ax1.twinx()\n",
    "#a = plt.bar(countsquad3,testsquad)\n",
    "#autolabel(a)\n",
    "plt.hist(countsquad2,27)\n",
    "plt.show()"
   ]
  },
  {
   "cell_type": "code",
   "execution_count": 182,
   "metadata": {},
   "outputs": [
    {
     "data": {
      "text/plain": [
       "100"
      ]
     },
     "execution_count": 182,
     "metadata": {},
     "output_type": "execute_result"
    }
   ],
   "source": [
    "dfsolo = df[(df['matchType'] == 'solo')].reindex(columns = ['maxPlace','numGroups','winPlacePerc','intwpp','matchId','groupId'])\n",
    "max(dfsolo['maxPlace'])"
   ]
  },
  {
   "cell_type": "code",
   "execution_count": 184,
   "metadata": {},
   "outputs": [
    {
     "data": {
      "text/plain": [
       "(181943, 6)"
      ]
     },
     "execution_count": 184,
     "metadata": {},
     "output_type": "execute_result"
    }
   ],
   "source": [
    "dfsolo.shape"
   ]
  },
  {
   "cell_type": "code",
   "execution_count": 194,
   "metadata": {},
   "outputs": [
    {
     "data": {
      "text/plain": [
       "(array([448., 450., 457., 456., 464., 472., 500., 508., 526., 545., 553.,\n",
       "        557., 530., 485., 420., 304.,   0., 190., 123., 100.,  92.,  79.,\n",
       "         73.,  66.,  67.,  67.,  54.,  48.,  46.,  54.,  47.,  53.,  50.,\n",
       "          0.,  47.,  40.,  52.,  53.,  43.,  47.,  39.,  52.,  46.,  51.,\n",
       "         60.,  70.,  73., 107.,  89.,   0.,  99., 109., 129., 115., 163.,\n",
       "        139., 151., 139., 137., 154., 155., 136., 127., 135., 122., 117.,\n",
       "          0., 110.,  81.,  90., 101.,  91., 103.,  77.,  82.,  70.,  74.,\n",
       "         87.,  64.,  59.,  47.,  45.,  45.,   0.,  39.,  34.,  26.,  33.,\n",
       "         19.,  35.,  22.,  11.,  15.,   7.,   6.,   5.,   3.,   2.,   1.,\n",
       "          2.]),\n",
       " array([ 2.  ,  2.94,  3.88,  4.82,  5.76,  6.7 ,  7.64,  8.58,  9.52,\n",
       "        10.46, 11.4 , 12.34, 13.28, 14.22, 15.16, 16.1 , 17.04, 17.98,\n",
       "        18.92, 19.86, 20.8 , 21.74, 22.68, 23.62, 24.56, 25.5 , 26.44,\n",
       "        27.38, 28.32, 29.26, 30.2 , 31.14, 32.08, 33.02, 33.96, 34.9 ,\n",
       "        35.84, 36.78, 37.72, 38.66, 39.6 , 40.54, 41.48, 42.42, 43.36,\n",
       "        44.3 , 45.24, 46.18, 47.12, 48.06, 49.  , 49.94, 50.88, 51.82,\n",
       "        52.76, 53.7 , 54.64, 55.58, 56.52, 57.46, 58.4 , 59.34, 60.28,\n",
       "        61.22, 62.16, 63.1 , 64.04, 64.98, 65.92, 66.86, 67.8 , 68.74,\n",
       "        69.68, 70.62, 71.56, 72.5 , 73.44, 74.38, 75.32, 76.26, 77.2 ,\n",
       "        78.14, 79.08, 80.02, 80.96, 81.9 , 82.84, 83.78, 84.72, 85.66,\n",
       "        86.6 , 87.54, 88.48, 89.42, 90.36, 91.3 , 92.24, 93.18, 94.12,\n",
       "        95.06, 96.  ]),\n",
       " <a list of 100 Patch objects>)"
      ]
     },
     "execution_count": 194,
     "metadata": {},
     "output_type": "execute_result"
    },
    {
     "data": {
      "image/png": "[encoded data removed]",
      "text/plain": [
       "<Figure size 432x288 with 1 Axes>"
      ]
     },
     "metadata": {
      "needs_background": "light"
     },
     "output_type": "display_data"
    }
   ],
   "source": [
    "dfsolo = dfsolo.sort_values(by = ['matchId','intwpp'])\n",
    "for i in range(len(dfsolo)):\n",
    "    if dfsolo.iloc[i,3] == dfsolo.iloc[i,3]:\n",
    "        continue\n",
    "    else:\n",
    "        dfsolo.iloc[i,3] = -1\n",
    "countSolo2 = []\n",
    "countSolo = []\n",
    "for i in range(101):\n",
    "    countSolo.append(0)\n",
    "dfsolo2 = dfsolo.groupby(['matchId']).count()\n",
    "jj = 0\n",
    "for i in range(len(dfsolo2)):\n",
    "    counttemp = []\n",
    "    for j in range(jj,jj+int(dfsolo.iloc[jj,0])):\n",
    "        counttemp.append(int(dfsolo.iloc[j,3]))\n",
    "    for m in range(1,int(dfsolo.iloc[jj,0])+1):\n",
    "        if m not in counttemp:\n",
    "            countSolo[m] = countSolo[m]+1\n",
    "            countSolo2.append(m)\n",
    "    jj = jj+int(dfsolo.iloc[jj,0])    \n",
    "plt.hist(countSolo2,100)"
   ]
  },
  {
   "cell_type": "code",
   "execution_count": 195,
   "metadata": {},
   "outputs": [
    {
     "data": {
      "text/plain": [
       "24.44793473893246"
      ]
     },
     "execution_count": 195,
     "metadata": {},
     "output_type": "execute_result"
    }
   ],
   "source": [
    "countsolo5 = np.array(countSolo2)\n",
    "np.std(countsolo5,ddof = 1)"
   ]
  },
  {
   "cell_type": "code",
   "execution_count": 242,
   "metadata": {},
   "outputs": [
    {
     "name": "stdout",
     "output_type": "stream",
     "text": [
      "参数估计值:\n",
      "k1: [0.2007918638324044, 0.7992081361675956]\n",
      "mu1: [9.016640962397442, 32.19306597584008]\n",
      "sigma1: [3.8218631800981773, 25.224725313115634]\n"
     ]
    }
   ],
   "source": [
    "k0 = [0.8,0.2]\n",
    "mu0 = [12,55]\n",
    "sigma0 = [8,24.44]\n",
    "step = 6\n",
    "# 使用em算法估计参数\n",
    "k1,mu1,sigma1 = emgauss(countsolo5,k0,mu0,sigma0,step)\n",
    "# 输出参数的值\n",
    "print(\"参数估计值:\")\n",
    "print(\"k1:\",k1)\n",
    "print(\"mu1:\",mu1)\n",
    "print(\"sigma1:\",sigma1)"
   ]
  },
  {
   "cell_type": "code",
   "execution_count": 243,
   "metadata": {},
   "outputs": [
    {
     "data": {
      "text/plain": [
       "[<matplotlib.lines.Line2D at 0x1b2c3327d00>]"
      ]
     },
     "execution_count": 243,
     "metadata": {},
     "output_type": "execute_result"
    },
    {
     "data": {
      "image/png": "[encoded data removed]",
      "text/plain": [
       "<Figure size 432x288 with 1 Axes>"
      ]
     },
     "metadata": {
      "needs_background": "light"
     },
     "output_type": "display_data"
    }
   ],
   "source": [
    "X = np.arange(0,100,0.05)\n",
    "Y = doubledensity(mu1,sigma1,k1,X)\n",
    "plt.plot(X,Y,'b-',linewidth=3)"
   ]
  },
  {
   "cell_type": "code",
   "execution_count": 160,
   "metadata": {},
   "outputs": [],
   "source": [
    "dfduo = df[(df['matchType'] == 'duo')].reindex(columns = ['maxPlace','numGroups','winPlacePerc','intwpp','matchId','groupId'])"
   ]
  },
  {
   "cell_type": "code",
   "execution_count": 163,
   "metadata": {},
   "outputs": [
    {
     "data": {
      "text/plain": [
       "51"
      ]
     },
     "execution_count": 163,
     "metadata": {},
     "output_type": "execute_result"
    }
   ],
   "source": [
    "max(dfduo['maxPlace'])"
   ]
  },
  {
   "cell_type": "code",
   "execution_count": 165,
   "metadata": {},
   "outputs": [
    {
     "data": {
      "text/plain": [
       "(array([ 71., 142., 189., 210., 189., 149., 129., 115.,   0., 100., 114.,\n",
       "         82.,  89.,  85.,  92.,  73.,  84.,   0., 108., 145., 180., 205.,\n",
       "        271., 319., 334., 339.,   0., 352., 369., 341., 292., 280., 252.,\n",
       "        222., 213.,   0., 187., 166., 134., 134.,  96.,  83.,  65.,  47.,\n",
       "          0.,  16.,  19.,  14.,   7.,   4.,   1.,   1.,   1.]),\n",
       " array([ 2.        ,  2.88679245,  3.77358491,  4.66037736,  5.54716981,\n",
       "         6.43396226,  7.32075472,  8.20754717,  9.09433962,  9.98113208,\n",
       "        10.86792453, 11.75471698, 12.64150943, 13.52830189, 14.41509434,\n",
       "        15.30188679, 16.18867925, 17.0754717 , 17.96226415, 18.8490566 ,\n",
       "        19.73584906, 20.62264151, 21.50943396, 22.39622642, 23.28301887,\n",
       "        24.16981132, 25.05660377, 25.94339623, 26.83018868, 27.71698113,\n",
       "        28.60377358, 29.49056604, 30.37735849, 31.26415094, 32.1509434 ,\n",
       "        33.03773585, 33.9245283 , 34.81132075, 35.69811321, 36.58490566,\n",
       "        37.47169811, 38.35849057, 39.24528302, 40.13207547, 41.01886792,\n",
       "        41.90566038, 42.79245283, 43.67924528, 44.56603774, 45.45283019,\n",
       "        46.33962264, 47.22641509, 48.11320755, 49.        ]),\n",
       " <a list of 53 Patch objects>)"
      ]
     },
     "execution_count": 165,
     "metadata": {},
     "output_type": "execute_result"
    },
    {
     "data": {
      "image/png": "[encoded data removed]",
      "text/plain": [
       "<Figure size 432x288 with 1 Axes>"
      ]
     },
     "metadata": {
      "needs_background": "light"
     },
     "output_type": "display_data"
    }
   ],
   "source": [
    "dfduo = dfduo.sort_values(by = ['matchId','intwpp'])\n",
    "for i in range(len(dfduo)):\n",
    "    if dfduo.iloc[i,3] == dfduo.iloc[i,3]:\n",
    "        continue\n",
    "    else:\n",
    "        dfduo.iloc[i,3] = -1\n",
    "countduo2 = []\n",
    "countduo = []\n",
    "for i in range(52):\n",
    "    countduo.append(0)\n",
    "dfduo2 = dfduo.groupby(['matchId']).count()\n",
    "jj = 0\n",
    "for i in range(len(dfduo2)):\n",
    "    counttemp = []\n",
    "    for j in range(jj,jj+int(dfduo2.iloc[i,0])):\n",
    "        counttemp.append(int(dfduo.iloc[j,3]))\n",
    "    for m in range(1,int(dfduo.iloc[jj,0])+1):\n",
    "        if m not in counttemp:\n",
    "            countduo[m] = countduo[m]+1\n",
    "            countduo2.append(m)\n",
    "    jj = jj+int(dfduo2.iloc[i,0]) "
   ]
  },
  {
   "cell_type": "code",
   "execution_count": 326,
   "metadata": {},
   "outputs": [
    {
     "data": {
      "text/plain": [
       "Text(0.5, 0, '缺失值的位置')"
      ]
     },
     "execution_count": 326,
     "metadata": {},
     "output_type": "execute_result"
    },
    {
     "data": {
      "image/png": "[encoded data removed]",
      "text/plain": [
       "<Figure size 432x288 with 1 Axes>"
      ]
     },
     "metadata": {
      "needs_background": "light"
     },
     "output_type": "display_data"
    }
   ],
   "source": [
    "#plt.hist(countduo2,48,color = ('y'))\n",
    "fig,ax1 = plt.subplots()\n",
    "plt.rcParams['font.sans-serif'] = ['SimHei']\n",
    "a = plt.bar(testduo,countduo3,color=['gray']*4+['#FDE255']*4+['gray']*14+['#FDE255']*9+['gray']*17)\n",
    "ax1.set_ylabel('频数') \n",
    "ax1.set_xlabel('缺失值的位置') "
   ]
  },
  {
   "cell_type": "code",
   "execution_count": 166,
   "metadata": {},
   "outputs": [
    {
     "data": {
      "text/plain": [
       "10.242870324532568"
      ]
     },
     "execution_count": 166,
     "metadata": {},
     "output_type": "execute_result"
    }
   ],
   "source": [
    "countduo5 = np.array(countduo2)\n",
    "np.std(countduo5,ddof = 1)"
   ]
  },
  {
   "cell_type": "code",
   "execution_count": 276,
   "metadata": {},
   "outputs": [
    {
     "name": "stdout",
     "output_type": "stream",
     "text": [
      "参数估计值:\n",
      "k1: [0.21997831116930705, 0.7800216888306929]\n",
      "mu1: [7.148308359782472, 27.223217635025645]\n",
      "sigma1: [3.466429487643154, 6.514990777110895]\n"
     ]
    }
   ],
   "source": [
    "k0 = [0.363,0.637]\n",
    "mu0 = [5,27]\n",
    "sigma0 = [10.24,10.24]\n",
    "step = 6\n",
    "# 使用em算法估计参数\n",
    "k1,mu1,sigma1 = emgauss(countduo5,k0,mu0,sigma0,step)\n",
    "# 输出参数的值\n",
    "print(\"参数估计值:\")\n",
    "print(\"k1:\",k1)\n",
    "print(\"mu1:\",mu1)\n",
    "print(\"sigma1:\",sigma1)"
   ]
  },
  {
   "cell_type": "code",
   "execution_count": 277,
   "metadata": {},
   "outputs": [
    {
     "data": {
      "text/plain": [
       "[<matplotlib.lines.Line2D at 0x1b31ad47c40>]"
      ]
     },
     "execution_count": 277,
     "metadata": {},
     "output_type": "execute_result"
    },
    {
     "data": {
      "image/png": "[encoded data removed]",
      "text/plain": [
       "<Figure size 432x288 with 1 Axes>"
      ]
     },
     "metadata": {
      "needs_background": "light"
     },
     "output_type": "display_data"
    }
   ],
   "source": [
    "X = np.arange(0,51,0.05)\n",
    "Y = doubledensity(mu1,sigma1,k1,X)\n",
    "plt.plot(X,Y,'b-',linewidth=3)"
   ]
  },
  {
   "cell_type": "code",
   "execution_count": 289,
   "metadata": {},
   "outputs": [],
   "source": [
    "countduo3 = []\n",
    "testduo = []\n",
    "for i in range(52):\n",
    "    countduo3.append(0)\n",
    "for i in range(len(countduo2)):\n",
    "    countduo3[int(countduo2[i])] = countduo3[int(countduo2[i])]+1\n",
    "for i in range(52):\n",
    "    testduo.append(i)\n",
    "countduo3 = np.array(countduo3)\n",
    "testduo = np.array(testduo)"
   ]
  },
  {
   "cell_type": "code",
   "execution_count": 299,
   "metadata": {},
   "outputs": [
    {
     "data": {
      "text/plain": [
       "array([ 0,  1,  2,  3,  4,  5,  6,  7,  8,  9, 10, 11, 12, 13, 14, 15, 16,\n",
       "       17, 18, 19, 20, 21, 22, 23, 24, 25, 26, 27, 28, 29, 30, 31, 32, 33,\n",
       "       34, 35, 36, 37, 38, 39, 40, 41, 42, 43, 44, 45, 46, 47, 48, 49, 50,\n",
       "       51])"
      ]
     },
     "execution_count": 299,
     "metadata": {},
     "output_type": "execute_result"
    }
   ],
   "source": [
    "testduo"
   ]
  },
  {
   "cell_type": "code",
   "execution_count": 317,
   "metadata": {},
   "outputs": [
    {
     "data": {
      "text/plain": [
       "<Figure size 432x288 with 0 Axes>"
      ]
     },
     "metadata": {},
     "output_type": "display_data"
    },
    {
     "data": {
      "image/png": "[encoded data removed]",
      "text/plain": [
       "<Figure size 432x288 with 2 Axes>"
      ]
     },
     "metadata": {
      "needs_background": "light"
     },
     "output_type": "display_data"
    }
   ],
   "source": [
    "import matplotlib as mpl\n",
    "\n",
    "figsave=plt.gcf()\n",
    "plt.rcParams['font.sans-serif'] = ['SimHei']\n",
    "fig,ax1 = plt.subplots()\n",
    "plt.plot(X,Y,'k-',linewidth=3)\n",
    "ax1.set_xlabel('缺失值的位置')\n",
    "ax1.set_ylabel('密度函数')\n",
    "ax2=ax1.twinx()\n",
    "a = plt.bar(testduo,countduo3,color=['gray']*4+['#FDE255']*4+['gray']*14+['#FDE255']*9+['gray']*17)\n",
    "#plt.hist(countduo2,48,color = ('y'))\n",
    "ax2.set_ylabel('频数') \n",
    "plt.show()\n",
    "figsave.savefig('./duo类型比赛的缺失值分布')"
   ]
  },
  {
   "cell_type": "code",
   "execution_count": 48,
   "metadata": {},
   "outputs": [
    {
     "data": {
      "text/plain": [
       "(array([ 3.,  4.,  8.,  6.,  0.,  3.,  5.,  5.,  0.,  4.,  2.,  1.,  0.,\n",
       "         2.,  4.,  1.,  0.,  5.,  8.,  7.,  0.,  6., 11., 11.,  0., 16.,\n",
       "        18., 10.,  0., 11.,  8.,  9.,  0.,  5.,  4.,  4.,  0.,  2.,  3.,\n",
       "         4.,  0.,  1.,  1.,  1.,  0.,  0.,  0.,  0.,  0.,  0.,  0.,  0.,\n",
       "         1.]),\n",
       " array([ 2.        ,  2.75471698,  3.50943396,  4.26415094,  5.01886792,\n",
       "         5.77358491,  6.52830189,  7.28301887,  8.03773585,  8.79245283,\n",
       "         9.54716981, 10.30188679, 11.05660377, 11.81132075, 12.56603774,\n",
       "        13.32075472, 14.0754717 , 14.83018868, 15.58490566, 16.33962264,\n",
       "        17.09433962, 17.8490566 , 18.60377358, 19.35849057, 20.11320755,\n",
       "        20.86792453, 21.62264151, 22.37735849, 23.13207547, 23.88679245,\n",
       "        24.64150943, 25.39622642, 26.1509434 , 26.90566038, 27.66037736,\n",
       "        28.41509434, 29.16981132, 29.9245283 , 30.67924528, 31.43396226,\n",
       "        32.18867925, 32.94339623, 33.69811321, 34.45283019, 35.20754717,\n",
       "        35.96226415, 36.71698113, 37.47169811, 38.22641509, 38.98113208,\n",
       "        39.73584906, 40.49056604, 41.24528302, 42.        ]),\n",
       " <a list of 53 Patch objects>)"
      ]
     },
     "execution_count": 48,
     "metadata": {},
     "output_type": "execute_result"
    },
    {
     "data": {
      "image/png": "[encoded data removed]",
      "text/plain": [
       "<Figure size 432x288 with 1 Axes>"
      ]
     },
     "metadata": {
      "needs_background": "light"
     },
     "output_type": "display_data"
    }
   ],
   "source": [
    "dfduofpp = dfduofpp.sort_values(by = ['matchId','intwpp'])\n",
    "for i in range(len(dfduofpp)):\n",
    "    if dfduofpp.iloc[i,3] == dfduofpp.iloc[i,3]:\n",
    "        continue\n",
    "    else:\n",
    "        dfduofpp.iloc[i,3] = -1\n",
    "countduofpp2 = []\n",
    "countduofpp = []\n",
    "for i in range(52):\n",
    "    countduofpp.append(0)\n",
    "dfduofpp2 = dfduofpp.groupby(['matchId']).count()\n",
    "jj = 0\n",
    "for i in range(len(dfduofpp2)):\n",
    "    counttemp = []\n",
    "    for j in range(jj,jj+int(dfduofpp2.iloc[i,0])):\n",
    "        counttemp.append(int(dfduofpp.iloc[j,3]))\n",
    "    for m in range(1,int(dfduofpp.iloc[jj,0])+1):\n",
    "        if m not in counttemp:\n",
    "            countduofpp[m] = countduofpp[m]+1\n",
    "            countduofpp2.append(m)\n",
    "    jj = jj+int(dfduofpp2.iloc[i,0]) \n",
    "plt.hist(countduofpp2,53)"
   ]
  },
  {
   "cell_type": "code",
   "execution_count": 50,
   "metadata": {},
   "outputs": [],
   "source": [
    "countcrashfpp5 = np.array(countcrashfpp2)"
   ]
  },
  {
   "cell_type": "code",
   "execution_count": 51,
   "metadata": {},
   "outputs": [
    {
     "data": {
      "text/plain": [
       "18.74742268041237"
      ]
     },
     "execution_count": 51,
     "metadata": {},
     "output_type": "execute_result"
    }
   ],
   "source": [
    "np.mean(countcrashfpp5)"
   ]
  },
  {
   "cell_type": "code",
   "execution_count": 52,
   "metadata": {},
   "outputs": [
    {
     "data": {
      "text/plain": [
       "8.13316109425987"
      ]
     },
     "execution_count": 52,
     "metadata": {},
     "output_type": "execute_result"
    }
   ],
   "source": [
    "np.std(countcrashfpp5,ddof = 1)"
   ]
  },
  {
   "cell_type": "code",
   "execution_count": 141,
   "metadata": {},
   "outputs": [
    {
     "name": "stdout",
     "output_type": "stream",
     "text": [
      "参数估计值:\n",
      "k1: [0.1851983907672384, 0.8148016092327617]\n",
      "mu1: [5.460957954273285, 21.76733802960225]\n",
      "sigma1: [2.2290108994943805, 5.512864275727925]\n"
     ]
    }
   ],
   "source": [
    "k0 = [0.3,0.7]\n",
    "mu0 = [4,23]\n",
    "sigma0 = [8.13,8.13]\n",
    "step = 6\n",
    "# 使用em算法估计参数\n",
    "k1,mu1,sigma1 = emgauss(countcrashfpp5,k0,mu0,sigma0,step)\n",
    "# 输出参数的值\n",
    "print(\"参数估计值:\")\n",
    "print(\"k1:\",k1)\n",
    "print(\"mu1:\",mu1)\n",
    "print(\"sigma1:\",sigma1)"
   ]
  },
  {
   "cell_type": "code",
   "execution_count": 144,
   "metadata": {},
   "outputs": [
    {
     "data": {
      "text/plain": [
       "[<matplotlib.lines.Line2D at 0x1b2b8a537f0>]"
      ]
     },
     "execution_count": 144,
     "metadata": {},
     "output_type": "execute_result"
    },
    {
     "data": {
      "image/png": "[encoded data removed]",
      "text/plain": [
       "<Figure size 432x288 with 1 Axes>"
      ]
     },
     "metadata": {
      "needs_background": "light"
     },
     "output_type": "display_data"
    }
   ],
   "source": [
    "X = np.arange(0,52,0.05)\n",
    "Y = doubledensity(mu1,sigma1,k1,X)\n",
    "plt.plot(X,Y,'b-',linewidth=3)"
   ]
  },
  {
   "cell_type": "code",
   "execution_count": 146,
   "metadata": {},
   "outputs": [
    {
     "data": {
      "text/plain": [
       "1.0"
      ]
     },
     "execution_count": 146,
     "metadata": {},
     "output_type": "execute_result"
    }
   ],
   "source": [
    "0.12+0.88"
   ]
  },
  {
   "cell_type": "code",
   "execution_count": null,
   "metadata": {},
   "outputs": [],
   "source": [
    "max(dfcrashfpp['maxPlace'])"
   ]
  },
  {
   "cell_type": "code",
   "execution_count": 247,
   "metadata": {},
   "outputs": [
    {
     "data": {
      "text/plain": [
       "44"
      ]
     },
     "execution_count": 247,
     "metadata": {},
     "output_type": "execute_result"
    }
   ],
   "source": [
    "dfcrashtpp = df[(df['matchType'] == 'crashtpp')].reindex(columns = ['maxPlace','numGroups','winPlacePerc','intwpp','matchId','groupId'])\n",
    "max(dfcrashtpp['numGroups'])\n",
    "#dfcrashtpp.shape"
   ]
  },
  {
   "cell_type": "code",
   "execution_count": 249,
   "metadata": {},
   "outputs": [
    {
     "data": {
      "text/plain": [
       "(array([1., 1., 0., 0., 0., 1., 0., 1., 0., 1., 0., 0., 0., 0., 0., 0., 0.,\n",
       "        0., 0., 0., 0., 1., 0., 0., 0., 0., 0., 0., 0., 0., 0., 0., 0., 0.,\n",
       "        0., 0., 0., 2., 0., 0., 0., 1., 0., 0., 1.]),\n",
       " array([ 2.        ,  2.51111111,  3.02222222,  3.53333333,  4.04444444,\n",
       "         4.55555556,  5.06666667,  5.57777778,  6.08888889,  6.6       ,\n",
       "         7.11111111,  7.62222222,  8.13333333,  8.64444444,  9.15555556,\n",
       "         9.66666667, 10.17777778, 10.68888889, 11.2       , 11.71111111,\n",
       "        12.22222222, 12.73333333, 13.24444444, 13.75555556, 14.26666667,\n",
       "        14.77777778, 15.28888889, 15.8       , 16.31111111, 16.82222222,\n",
       "        17.33333333, 17.84444444, 18.35555556, 18.86666667, 19.37777778,\n",
       "        19.88888889, 20.4       , 20.91111111, 21.42222222, 21.93333333,\n",
       "        22.44444444, 22.95555556, 23.46666667, 23.97777778, 24.48888889,\n",
       "        25.        ]),\n",
       " <a list of 45 Patch objects>)"
      ]
     },
     "execution_count": 249,
     "metadata": {},
     "output_type": "execute_result"
    },
    {
     "data": {
      "image/png": "[encoded data removed]",
      "text/plain": [
       "<Figure size 432x288 with 1 Axes>"
      ]
     },
     "metadata": {
      "needs_background": "light"
     },
     "output_type": "display_data"
    }
   ],
   "source": [
    "dfcrashtpp = dfcrashtpp.sort_values(by = ['matchId','intwpp'])\n",
    "for i in range(len(dfcrashtpp)):\n",
    "    if dfcrashtpp.iloc[i,3] == dfcrashtpp.iloc[i,3]:\n",
    "        continue\n",
    "    else:\n",
    "        dfcrashtpp.iloc[i,3] = -1\n",
    "countcrashtpp2 = []\n",
    "countcrashtpp = []\n",
    "for i in range(45):\n",
    "    countcrashtpp.append(0)\n",
    "dfcrashtpp2 = dfcrashtpp.groupby(['matchId']).count()\n",
    "jj = 0\n",
    "for i in range(len(dfcrashtpp2)):\n",
    "    counttemp = []\n",
    "    for j in range(jj,jj+int(dfcrashtpp2.iloc[i,0])):\n",
    "        counttemp.append(int(dfcrashtpp.iloc[j,3]))\n",
    "    for m in range(1,int(dfcrashtpp.iloc[jj,0])+1):\n",
    "        if m not in counttemp:\n",
    "            countcrashtpp[m] = countcrashtpp[m]+1\n",
    "            countcrashtpp2.append(m)\n",
    "    jj = jj+int(dfcrashtpp2.iloc[i,0]) \n",
    "plt.hist(countcrashtpp2,45)"
   ]
  },
  {
   "cell_type": "code",
   "execution_count": 153,
   "metadata": {},
   "outputs": [
    {
     "data": {
      "text/plain": [
       "(718, 6)"
      ]
     },
     "execution_count": 153,
     "metadata": {},
     "output_type": "execute_result"
    }
   ],
   "source": [
    "dfflarefpp = df[(df['matchType'] == 'flarefpp')].reindex(columns = ['maxPlace','numGroups','winPlacePerc','intwpp','matchId','groupId'])\n",
    "max(dfflarefpp['numGroups'])\n",
    "dfflarefpp.shape"
   ]
  },
  {
   "cell_type": "code",
   "execution_count": 151,
   "metadata": {},
   "outputs": [
    {
     "data": {
      "text/plain": [
       "(array([2., 0., 0., 1., 0., 0., 1., 0., 0., 1., 0., 0., 1., 0., 0., 0., 0.,\n",
       "        0., 0., 0., 0., 0., 0., 0., 1., 0., 0., 0., 0., 1.]),\n",
       " array([ 2.        ,  2.33333333,  2.66666667,  3.        ,  3.33333333,\n",
       "         3.66666667,  4.        ,  4.33333333,  4.66666667,  5.        ,\n",
       "         5.33333333,  5.66666667,  6.        ,  6.33333333,  6.66666667,\n",
       "         7.        ,  7.33333333,  7.66666667,  8.        ,  8.33333333,\n",
       "         8.66666667,  9.        ,  9.33333333,  9.66666667, 10.        ,\n",
       "        10.33333333, 10.66666667, 11.        , 11.33333333, 11.66666667,\n",
       "        12.        ]),\n",
       " <a list of 30 Patch objects>)"
      ]
     },
     "execution_count": 151,
     "metadata": {},
     "output_type": "execute_result"
    },
    {
     "data": {
      "image/png": "[encoded data removed]",
      "text/plain": [
       "<Figure size 432x288 with 1 Axes>"
      ]
     },
     "metadata": {
      "needs_background": "light"
     },
     "output_type": "display_data"
    }
   ],
   "source": [
    "dfflarefpp = dfflarefpp.sort_values(by = ['matchId','intwpp'])\n",
    "for i in range(len(dfflarefpp)):\n",
    "    if dfflarefpp.iloc[i,3] == dfflarefpp.iloc[i,3]:\n",
    "        continue\n",
    "    else:\n",
    "        dfflarefpp.iloc[i,3] = -1\n",
    "countflarefpp2 = []\n",
    "countflarefpp = []\n",
    "for i in range(30):\n",
    "    countflarefpp.append(0)\n",
    "dfflarefpp2 = dfflarefpp.groupby(['matchId']).count()\n",
    "jj = 0\n",
    "for i in range(len(dfflarefpp2)):\n",
    "    counttemp = []\n",
    "    for j in range(jj,jj+int(dfflarefpp2.iloc[i,0])):\n",
    "        counttemp.append(int(dfflarefpp.iloc[j,3]))\n",
    "    for m in range(1,int(dfflarefpp.iloc[jj,0])+1):\n",
    "        if m not in counttemp:\n",
    "            countflarefpp[m] = countflarefpp[m]+1\n",
    "            countflarefpp2.append(m)\n",
    "    jj = jj+int(dfflarefpp2.iloc[i,0]) \n",
    "plt.hist(countflarefpp2,30)"
   ]
  },
  {
   "cell_type": "code",
   "execution_count": 154,
   "metadata": {},
   "outputs": [],
   "source": [
    "#均匀分布"
   ]
  },
  {
   "cell_type": "code",
   "execution_count": 157,
   "metadata": {},
   "outputs": [
    {
     "data": {
      "text/plain": [
       "28"
      ]
     },
     "execution_count": 157,
     "metadata": {},
     "output_type": "execute_result"
    }
   ],
   "source": [
    "dfflaretpp = df[(df['matchType'] == 'flaretpp')].reindex(columns = ['maxPlace','numGroups','winPlacePerc','intwpp','matchId','groupId'])\n",
    "max(dfflaretpp['maxPlace'])\n",
    "#dfflaretpp.shape"
   ]
  },
  {
   "cell_type": "code",
   "execution_count": 158,
   "metadata": {},
   "outputs": [
    {
     "data": {
      "text/plain": [
       "(array([4., 1., 0., 0., 0., 0., 1., 0., 0., 0., 1., 2., 0., 3., 0., 3., 0.,\n",
       "        6., 2., 0., 2., 0., 2., 1., 0., 0., 0., 0., 1.]),\n",
       " array([ 2.        ,  2.5862069 ,  3.17241379,  3.75862069,  4.34482759,\n",
       "         4.93103448,  5.51724138,  6.10344828,  6.68965517,  7.27586207,\n",
       "         7.86206897,  8.44827586,  9.03448276,  9.62068966, 10.20689655,\n",
       "        10.79310345, 11.37931034, 11.96551724, 12.55172414, 13.13793103,\n",
       "        13.72413793, 14.31034483, 14.89655172, 15.48275862, 16.06896552,\n",
       "        16.65517241, 17.24137931, 17.82758621, 18.4137931 , 19.        ]),\n",
       " <a list of 29 Patch objects>)"
      ]
     },
     "execution_count": 158,
     "metadata": {},
     "output_type": "execute_result"
    },
    {
     "data": {
      "image/png": "[encoded data removed]",
      "text/plain": [
       "<Figure size 432x288 with 1 Axes>"
      ]
     },
     "metadata": {
      "needs_background": "light"
     },
     "output_type": "display_data"
    }
   ],
   "source": [
    "dfflaretpp = dfflaretpp.sort_values(by = ['matchId','intwpp'])\n",
    "for i in range(len(dfflaretpp)):\n",
    "    if dfflaretpp.iloc[i,3] == dfflaretpp.iloc[i,3]:\n",
    "        continue\n",
    "    else:\n",
    "        dfflaretpp.iloc[i,3] = -1\n",
    "countflaretpp2 = []\n",
    "countflaretpp = []\n",
    "for i in range(29):\n",
    "    countflaretpp.append(0)\n",
    "dfflaretpp2 = dfflaretpp.groupby(['matchId']).count()\n",
    "jj = 0\n",
    "for i in range(len(dfflaretpp2)):\n",
    "    counttemp = []\n",
    "    for j in range(jj,jj+int(dfflaretpp2.iloc[i,0])):\n",
    "        counttemp.append(int(dfflaretpp.iloc[j,3]))\n",
    "    for m in range(1,int(dfflaretpp.iloc[jj,0])+1):\n",
    "        if m not in counttemp:\n",
    "            countflaretpp[m] = countflaretpp[m]+1\n",
    "            countflaretpp2.append(m)\n",
    "    jj = jj+int(dfflaretpp2.iloc[i,0]) \n",
    "plt.hist(countflaretpp2,29)"
   ]
  },
  {
   "cell_type": "code",
   "execution_count": 159,
   "metadata": {},
   "outputs": [
    {
     "data": {
      "text/plain": [
       "29"
      ]
     },
     "execution_count": 159,
     "metadata": {},
     "output_type": "execute_result"
    }
   ],
   "source": [
    "len(countflaretpp2)"
   ]
  },
  {
   "cell_type": "code",
   "execution_count": null,
   "metadata": {},
   "outputs": [],
   "source": []
  }
 ],
 "metadata": {
  "kernelspec": {
   "display_name": "Python 3",
   "language": "python",
   "name": "python3"
  },
  "language_info": {
   "codemirror_mode": {
    "name": "ipython",
    "version": 3
   },
   "file_extension": ".py",
   "mimetype": "text/x-python",
   "name": "python",
   "nbconvert_exporter": "python",
   "pygments_lexer": "ipython3",
   "version": "3.7.0"
  }
 },
 "nbformat": 4,
 "nbformat_minor": 4
}
